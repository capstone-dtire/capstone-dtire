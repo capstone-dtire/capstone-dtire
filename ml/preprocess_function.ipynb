{
  "cells": [
    {
      "cell_type": "code",
      "source": [
        "import tensorflow as tf\n",
        "import numpy as np\n",
        "from tensorflow.keras.applications.resnet50 import preprocess_input\n",
        "import json\n",
        "import pprint\n",
        "from urllib.request import urlretrieve\n",
        "import PIL\n",
        "\n",
        "# Fetch the image from the URL: https://storage.googleapis.com/dtire-images/Cracked-1.jpg\n",
        "url = 'https://storage.googleapis.com/dtire-images/Cracked-1.jpg'\n",
        "# Download the image\n",
        "urlretrieve(url, 'Cracked-1.jpg')\n",
        "\n",
        "image_path = 'Cracked-1.jpg'\n",
        "\n",
        "# use pil\n",
        "img_p = PIL.Image.open(image_path)\n",
        "resample = PIL.Image.NEAREST\n",
        "img_p = img_p.resize((5, 5), resample)\n",
        "img_p_arr = np.asarray(img_p)\n",
        "img_p_arr = np.expand_dims(img_p_arr, axis=0)\n",
        "\n",
        "img_arr_p = np.copy(img_p_arr).astype('float32')\n",
        "#change to rgb to bgr\n",
        "img_arr_p = img_arr_p[..., ::-1]\n",
        "#mean from ImageNet dataset. (used in preprocess_input() restnet50)\n",
        "mean = [103.939, 116.779, 123.68]\n",
        "\n",
        "img_arr_p[..., 0] -= mean[0]\n",
        "img_arr_p[..., 1] -= mean[1]\n",
        "img_arr_p[..., 2] -= mean[2]\n",
        "print('output using preprocessing input PIL')\n",
        "#pprint.pprint(img_arr_p)\n",
        "# print(repr(img_arr_p))\n",
        "np.set_string_function(lambda x: repr(x).replace('(', '').replace(')', '').replace('array', '').replace(\"       \", ' ') , repr=False)\n",
        "# print(img_arr_p)\n",
        "# print(img_arr_p.shape)\n",
        "# JSON-ize img_arr_p\n",
        "img_arr_p_json = json.dumps(img_arr_p.tolist())\n",
        "type(img_arr_p_json)"
      ],
      "metadata": {
        "colab": {
          "base_uri": "https://localhost:8080/"
        },
        "id": "bXpiB26zIsx3",
        "outputId": "f690f746-ee24-4d15-fedc-7da298a7d494"
      },
      "execution_count": null,
      "outputs": [
        {
          "output_type": "stream",
          "name": "stdout",
          "text": [
            "output using preprocessing input PIL\n"
          ]
        },
        {
          "output_type": "execute_result",
          "data": {
            "text/plain": [
              "str"
            ]
          },
          "metadata": {},
          "execution_count": 10
        }
      ]
    },
    {
      "cell_type": "code",
      "source": [
        ""
      ],
      "metadata": {
        "id": "Zr_mQb31Ej3Y"
      },
      "execution_count": null,
      "outputs": []
    }
  ],
  "metadata": {
    "colab": {
      "collapsed_sections": [],
      "name": "preprocess function",
      "provenance": []
    },
    "kernelspec": {
      "display_name": "Python 3",
      "language": "python",
      "name": "python3"
    },
    "language_info": {
      "codemirror_mode": {
        "name": "ipython",
        "version": 3
      },
      "file_extension": ".py",
      "mimetype": "text/x-python",
      "name": "python",
      "nbconvert_exporter": "python",
      "pygments_lexer": "ipython3",
      "version": "3.6.4"
    }
  },
  "nbformat": 4,
  "nbformat_minor": 0
}